{
 "cells": [
  {
   "cell_type": "code",
   "execution_count": 1,
   "id": "3af07dc2-87e7-4f19-a188-c537b670d730",
   "metadata": {
    "scrolled": true
   },
   "outputs": [],
   "source": [
    "from datasets import load_from_disk\n",
    "\n",
    "# 1、加载数据集\n",
    "path = r'F:\\pythonProject\\datasets\\glue\\mrpc'  \n",
    "raw_datasets = load_from_disk(path)"
   ]
  },
  {
   "cell_type": "code",
   "execution_count": 2,
   "id": "51d68fc7-50f7-4c73-8cca-050aad0383ef",
   "metadata": {},
   "outputs": [
    {
     "data": {
      "text/plain": [
       "{'sentence1': 'The Nasdaq composite index inched up 1.28 , or 0.1 percent , to 1,766.60 , following a weekly win of 3.7 percent .',\n",
       " 'sentence2': 'The technology-laced Nasdaq Composite Index .IXIC was off 24.44 points , or 1.39 percent , at 1,739.87 .',\n",
       " 'label': 0,\n",
       " 'idx': 114}"
      ]
     },
     "execution_count": 2,
     "metadata": {},
     "output_type": "execute_result"
    }
   ],
   "source": [
    "raw_datasets[\"train\"][100]"
   ]
  },
  {
   "cell_type": "code",
   "execution_count": 3,
   "id": "1d80e42e-e1e1-473e-8ad7-556154afe4a6",
   "metadata": {},
   "outputs": [],
   "source": [
    "# 2、调用分词处理器处理文本\n",
    "from transformers import AutoTokenizer\n",
    "checkpoint = r\"F:\\pythonProject\\google_bert\\bert_base_uncased\"\n",
    "tokenizer = AutoTokenizer.from_pretrained(checkpoint)\n",
    "\n",
    "# 对所有数据进行分词处理\n",
    "def tokenize_function(example):\n",
    "    return tokenizer(example[\"sentence1\"], example[\"sentence2\"], truncation=True)\n",
    "# map函数一个好处就是指定batched=True，分布式的内容hugging face帮忙优化\n",
    "tokenized_datasets = raw_datasets.map(tokenize_function, batched=True)"
   ]
  },
  {
   "cell_type": "code",
   "execution_count": 4,
   "id": "1701d053-b679-4a89-8b36-8718f4e910da",
   "metadata": {},
   "outputs": [],
   "source": [
    "# 3、数据封装，将数据封装为一个batch\n",
    "from transformers import DataCollatorWithPadding\n",
    "data_collator = DataCollatorWithPadding(tokenizer=tokenizer)"
   ]
  },
  {
   "cell_type": "code",
   "execution_count": 5,
   "id": "6120117b-f368-48e2-89fb-232f0d022147",
   "metadata": {},
   "outputs": [
    {
     "data": {
      "text/plain": [
       "[50, 59, 47, 67, 59, 50, 62, 32]"
      ]
     },
     "execution_count": 5,
     "metadata": {},
     "output_type": "execute_result"
    }
   ],
   "source": [
    "# 将数据取出来看看，依次打印出每个样本的长度\n",
    "samples = tokenized_datasets[\"train\"][:8]#取训练集的前八个样本\n",
    "samples = {k: v for k, v in samples.items() if k not in [\"idx\", \"sentence1\", \"sentence2\"]}#不需要这些列\n",
    "[len(x) for x in samples[\"input_ids\"]]#每个样本的长度"
   ]
  },
  {
   "cell_type": "code",
   "execution_count": 6,
   "id": "67891e2c-47b7-4bc1-b090-cc0018657d4a",
   "metadata": {},
   "outputs": [
    {
     "data": {
      "text/plain": [
       "{'input_ids': torch.Size([8, 67]),\n",
       " 'token_type_ids': torch.Size([8, 67]),\n",
       " 'attention_mask': torch.Size([8, 67]),\n",
       " 'labels': torch.Size([8])}"
      ]
     },
     "execution_count": 6,
     "metadata": {},
     "output_type": "execute_result"
    }
   ],
   "source": [
    "# 经过data_collator处理之后，所有的样本长度都是固定的，\n",
    "batch = data_collator(samples)\n",
    "{k: v.shape for k, v in batch.items()}"
   ]
  },
  {
   "cell_type": "code",
   "execution_count": 7,
   "id": "3df74f14-a863-4dd9-8dee-f2ef612a75ed",
   "metadata": {},
   "outputs": [],
   "source": [
    "# 指定训练超参数，创建TrainingArguments 类\n",
    "\"\"\"\n",
    "output_dir ( str ) — 将写入模型预测和检查点的输出目录。\n",
    "overwrite_output_dir ( bool ，可选，默认为 False ) — 如果是 True ，则覆盖输出目录output_dir的内容。如果 output_dir 指向检查点目录，则使用它继续训练。\n",
    "evaluation_strategy ( str 或 IntervalStrategy，可选，默认为 \"no\" ) — 训练期间采用的评估策略。可能的值为：\n",
    "        \"no\" ：训练期间不进行评估。\n",
    "        \"steps\" ：每隔 eval_steps 进行一次评估（并记录）。\n",
    "        \"epoch\" ：评估在每个时期结束时进行。\n",
    "Prediction_loss_only ( bool ，可选，默认为 False ) — 执行评估和生成预测时，仅返回损失。\n",
    "per_device_train_batch_size ( int ，可选，默认为 8) — 用于训练的每个 GPU/XPU/TPU/MPS/NPU 核心/CPU 的批量大小。\n",
    "per_device_eval_batch_size ( int ，可选，默认为 8) — 用于评估的每个 GPU/XPU/TPU/MPS/NPU 核心/CPU 的批量大小。\n",
    "gradient_accumulation_steps ( int ，可选，默认为 1) — 在执行向后/更新传递之前累积梯度的更新步骤数。\n",
    "    使用梯度累加时，一步算作向后传递的一步。因此，每个 gradient_accumulation_steps * xxx_step 个训练样例都会进行记录、评估、保存。\n",
    "eval_accumulation_steps ( int ，可选) — 在将结果移至 CPU 之前累积输出张量的预测步骤数。如果未设置，整个预测将在转移到 CPU 之前累积在 GPU/NPU/TPU 上（速度更快，但需要更多内存）。\n",
    "eval_delay ( float ，可选) — 在执行第一次评估之前要等待的epoch数或步骤数，具体取决于评估策略。\n",
    "Learning_rate ( float ，可选，默认为 5e-5) — AdamW 优化器的初始学习率。\n",
    "weight_decay ( float ，可选，默认为 0) — 应用于除 AdamW 优化器中的所有偏差和 LayerNorm 权重之外的所有层的权重衰减（如果不为零）。\n",
    "adam_beta1 ( float ，可选，默认为 0.9) — AdamW 优化器的 beta1 超参数。\n",
    "adam_beta2 ( float ，可选，默认为 0.999) — AdamW 优化器的 beta2 超参数。\n",
    "adam_epsilon ( float ，可选，默认为 1e-8) — AdamW 优化器的 epsilon 超参数。\n",
    "num_train_epochs( float ，可选，默认为 3.0) — 要执行的训练时期总数（如果不是整数，将执行停止训练之前最后一个时期的小数部分百分比）。\n",
    "max_steps ( int ，可选，默认为 -1) — 如果设置为正数，则表示要执行的训练步骤总数。覆盖 num_train_epochs 。对于有限数据集，通过数据集重复训练（如果所有数据都已耗尽），直到达到 max_steps 。\n",
    "lr_scheduler_type ( str 或 SchedulerType，可选，默认为 \"linear\" ) — 要使用的调度程序类型。有关所有可能的值，请参阅 SchedulerType 的文档。\n",
    "lr_scheduler_kwargs (‘dict’，可选，默认为 {}) — lr_scheduler 的额外参数。有关可能的值，请参阅每个调度程序的文档。\n",
    "Warmup_ratio ( float ，可选，默认为 0.0) — 用于从 0 到 learning_rate 的线性预热的总训练步骤的比率。\n",
    "Warmup_steps ( int ，可选，默认为 0) — 用于从 0 到 learning_rate 的线性预热的步数。覆盖 warmup_ratio 的任何效果。\n",
    "save_strategy ( str 或 IntervalStrategy，可选，默认为 \"steps\" ) — 训练期间采用的检查点保存策略。可能的值为：\n",
    "        \"no\" ：训练期间不进行保存。\n",
    "        \"epoch\" ：保存在每个纪元结束时完成。\n",
    "        \"steps\" ：每隔 save_steps 进行一次保存。\n",
    "save_steps（ int 或 float ，可选，默认为 500） - 如果 save_strategy=\"steps\" ，则两个检查点保存之前的更新步骤数。应该是 [0,1) 范围内的整数或浮点数。如果小于 1，将被解释为总训练步数的比率。\n",
    "save_total_limit ( int , 可选) — 如果传递一个值，将限制检查点的总数。删除 output_dir 中较旧的检查点。启用 load_best_model_at_end 后，除了最近的检查点之外，将始终保留根据 metric_for_best_model 的“最佳”检查点。例如，对于 save_total_limit=5 和 load_best_model_at_end ，最后四个检查点将始终与最佳模型一起保留。当 save_total_limit=1 和 load_best_model_at_end 时，可能会保存两个检查点：最后一个和最好的一个（如果它们不同）。\n",
    "\"\"\"\n",
    "from transformers import TrainingArguments\n",
    "# 如果想在微调期间监控评估指标，在训练参数中指定 evaluation_strategy 参数，以在每个周期结束时报告评估指标\n",
    "training_args = TrainingArguments(\"./test-trainer\", evaluation_strategy=\"epoch\")"
   ]
  },
  {
   "cell_type": "code",
   "execution_count": 8,
   "id": "5b9008e8-3b3b-41e8-9876-3ba8ebb099da",
   "metadata": {},
   "outputs": [
    {
     "name": "stderr",
     "output_type": "stream",
     "text": [
      "Some weights of BertForSequenceClassification were not initialized from the model checkpoint at F:\\pythonProject\\google_bert\\bert_base_uncased and are newly initialized: ['classifier.bias', 'classifier.weight']\n",
      "You should probably TRAIN this model on a down-stream task to be able to use it for predictions and inference.\n"
     ]
    }
   ],
   "source": [
    "# 加载模型预训练权重\n",
    "\"\"\"选定模型，确定输出层标签数量\"\"\"\n",
    "from transformers import AutoModelForSequenceClassification\n",
    "model = AutoModelForSequenceClassification.from_pretrained(checkpoint, num_labels=2)"
   ]
  },
  {
   "cell_type": "code",
   "execution_count": 9,
   "id": "03337f29-2e79-4869-be76-d63fa5c2e08c",
   "metadata": {},
   "outputs": [
    {
     "data": {
      "application/vnd.jupyter.widget-view+json": {
       "model_id": "d11d48c15f6a43d2b1effcc9edb9879a",
       "version_major": 2,
       "version_minor": 0
      },
      "text/plain": [
       "Downloading builder script:   0%|          | 0.00/4.20k [00:00<?, ?B/s]"
      ]
     },
     "metadata": {},
     "output_type": "display_data"
    }
   ],
   "source": [
    "# 5、加载 Evaluate 评价指标\n",
    "\"\"\"\n",
    "Trainer 在训练期间不会自动评估模型性能。需要向 Trainer 传递一个函数来计算和报告指标。\n",
    "Evaluate 库提供了一个简单的 accuracy 函数，使用 evaluate.load 函数加载\n",
    "\"\"\"\n",
    "import numpy as np\n",
    "import evaluate\n",
    "\n",
    "metric = evaluate.load(\"accuracy\")\n",
    "\n",
    "# metric 调用 compute 以计算预测的准确性\n",
    "def compute_metrics(eval_pred):\n",
    "    logits, labels = eval_pred\n",
    "    # 递给 compute 之前，将logits值转换为预测\n",
    "    predictions = np.argmax(logits, axis=-1)\n",
    "    return metric.compute(predictions=predictions, references=labels)"
   ]
  },
  {
   "cell_type": "code",
   "execution_count": 10,
   "id": "ea2eb0c4-0f0f-4118-a8eb-3809cdaabe97",
   "metadata": {},
   "outputs": [
    {
     "name": "stderr",
     "output_type": "stream",
     "text": [
      "E:\\Anaconda\\Lib\\site-packages\\accelerate\\accelerator.py:432: FutureWarning: Passing the following arguments to `Accelerator` is deprecated and will be removed in version 1.0 of Accelerate: dict_keys(['dispatch_batches', 'split_batches', 'even_batches', 'use_seedable_sampler']). Please pass an `accelerate.DataLoaderConfiguration` instead: \n",
      "dataloader_config = DataLoaderConfiguration(dispatch_batches=None, split_batches=False, even_batches=True, use_seedable_sampler=True)\n",
      "  warnings.warn(\n"
     ]
    }
   ],
   "source": [
    "# 6、使用模型、训练参数、训练和测试数据集以及评估函数创建一个 Trainer 对象：\n",
    "\"\"\"\n",
    "model：这是你要训练、评估或预测的模型。\n",
    "可以是Hugging Face库中提供的预训练模型（PreTrainedModel），也可以是你自己定义的PyTorch模型（torch.nn.Module）。\n",
    "如果你使用自定义的PyTorch模型，确保它们与Hugging Face库中的模型以相同的方式工作，以便与Trainer类兼容。\n",
    "\n",
    "args：这是用于调整训练的参数。\n",
    "如果不提供，将使用默认的一组参数。\n",
    "你可以通过创建TrainingArguments的实例来调整训练参数，如设置训练的最大步数、学习率等。\n",
    "\n",
    "data_collator：这是用于形成批次数据的函数。\n",
    "如果不提供，Trainer将根据是否提供了分词器（tokenizer）来选择默认的数据整合器。\n",
    "数据整合器的作用是将训练或评估数据集的元素整合成批次。\n",
    "\n",
    "train_dataset：这是用于训练的数据集。\n",
    "可以是PyTorch的Dataset对象或IterableDataset对象。\n",
    "\n",
    "eval_dataset：这是用于评估的数据集。\n",
    "可以是PyTorch的Dataset对象或字典，其中键是用于标识数据集的名称。\n",
    "\n",
    "tokenizer：这是用于数据预处理的分词器。\n",
    "如果提供，将用于自动对输入进行填充，并在模型中保存，以便重新运行中断的训练或重用微调后的模型。\n",
    "\n",
    "model_init：这是用于实例化模型的函数。\n",
    "如果提供了这个函数，每次调用train()方法时都会从此函数返回的模型实例开始训练。\n",
    "这个函数可以没有参数，也可以接受一个参数，例如用于超参数优化的trial对象。\n",
    "\n",
    "compute_metrics：这是用于评估时计算指标的函数。\n",
    "它接收一个EvalPrediction对象作为参数，并返回一个包含指标名称和值的字典。\n",
    "\n",
    "callbacks：这是用于自定义训练循环的回调函数列表。\n",
    "可以通过添加回调函数来扩展或修改Trainer的默认行为。\n",
    "\n",
    "optimizers：这是优化器和学习率调度器的元组。\n",
    "默认情况下，Trainer将使用AdamW优化器和一个由参数args控制的学习率调度器。\n",
    "\n",
    "preprocess_logits_for_metrics：这是用于在缓存每个评估步骤时预处理对数的函数。\n",
    "它接收模型的输出对数和标签作为输入，并返回预处理后的对数。\n",
    "这个函数可以用来在计算指标之前对模型输出进行后处理。\n",
    "\"\"\"\n",
    "from transformers import Trainer\n",
    "\n",
    "trainer = Trainer(\n",
    "    model,\n",
    "    training_args,\n",
    "    train_dataset=tokenized_datasets[\"train\"],\n",
    "    eval_dataset=tokenized_datasets[\"validation\"],\n",
    "    data_collator=data_collator,\n",
    "    tokenizer=tokenizer,\n",
    "    compute_metrics=compute_metrics,)"
   ]
  },
  {
   "cell_type": "code",
   "execution_count": null,
   "id": "be1aad34-67f4-4fee-a768-fa99fa14b93d",
   "metadata": {},
   "outputs": [
    {
     "data": {
      "text/html": [
       "\n",
       "    <div>\n",
       "      \n",
       "      <progress value='673' max='1377' style='width:300px; height:20px; vertical-align: middle;'></progress>\n",
       "      [ 673/1377 52:51 < 55:27, 0.21 it/s, Epoch 1.46/3]\n",
       "    </div>\n",
       "    <table border=\"1\" class=\"dataframe\">\n",
       "  <thead>\n",
       " <tr style=\"text-align: left;\">\n",
       "      <th>Epoch</th>\n",
       "      <th>Training Loss</th>\n",
       "      <th>Validation Loss</th>\n",
       "      <th>Accuracy</th>\n",
       "    </tr>\n",
       "  </thead>\n",
       "  <tbody>\n",
       "    <tr>\n",
       "      <td>1</td>\n",
       "      <td>No log</td>\n",
       "      <td>0.584608</td>\n",
       "      <td>0.708333</td>\n",
       "    </tr>\n",
       "  </tbody>\n",
       "</table><p>"
      ],
      "text/plain": [
       "<IPython.core.display.HTML object>"
      ]
     },
     "metadata": {},
     "output_type": "display_data"
    }
   ],
   "source": [
    "trainer.train()"
   ]
  }
 ],
 "metadata": {
  "kernelspec": {
   "display_name": "Python 3 (ipykernel)",
   "language": "python",
   "name": "python3"
  },
  "language_info": {
   "codemirror_mode": {
    "name": "ipython",
    "version": 3
   },
   "file_extension": ".py",
   "mimetype": "text/x-python",
   "name": "python",
   "nbconvert_exporter": "python",
   "pygments_lexer": "ipython3",
   "version": "3.11.7"
  }
 },
 "nbformat": 4,
 "nbformat_minor": 5
}
