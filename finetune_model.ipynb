{
 "cells": [
  {
   "cell_type": "code",
   "execution_count": null,
   "id": "2bb9426a-46e8-46c1-bfd9-4fd48e48be8e",
   "metadata": {},
   "outputs": [],
   "source": [
    "# 1、下载数据集并准备进行训练。首先加载 Yelp 评论数据集\n",
    "from datasets import load_dataset\n",
    "\n",
    "path = r'F:\\pythonProject\\datasets\\glue\\mrpc' \n",
    "dataset = load_dataset(\"yelp_review_full\")\n",
    "dataset[\"train\"][100]  # 查看数据集格式"
   ]
  },
  {
   "cell_type": "code",
   "execution_count": null,
   "id": "3b817dee-4f47-4528-b1d3-7648aced0240",
   "metadata": {},
   "outputs": [],
   "source": [
    "# 2、调用分词处理器处理文本\n",
    "from transformers import AutoTokenizer\n",
    "\n",
    "tokenizer = AutoTokenizer.from_pretrained(\"google-bert/bert-base-cased\")\n",
    "\n",
    "# 构建对整个数据集应用预处理的方法\n",
    "def tokenize_function(examples):\n",
    "    return tokenizer(examples[\"text\"], padding=\"max_length\", truncation=True)\n",
    "\n",
    "# 使用 Datasets map 方法一步处理数据集\n",
    "tokenized_datasets = dataset.map(tokenize_function, batched=True)\n",
    "\n",
    "# 创建子集进行微调以减少所需的时间\n",
    "small_train_dataset = tokenized_datasets[\"train\"].shuffle(seed=42).select(range(1000))\n",
    "small_eval_dataset = tokenized_datasets[\"test\"].shuffle(seed=42).select(range(1000))"
   ]
  },
  {
   "cell_type": "code",
   "execution_count": null,
   "id": "9b3296cd-d432-4f15-814c-994a4f84061e",
   "metadata": {},
   "outputs": [],
   "source": [
    "# 3、加载模型并指定预期标签的数量，分析Yelp Review 数据集有5个标签\n",
    "from transformers import AutoModelForSequenceClassification\n",
    "\n",
    "model = AutoModelForSequenceClassification.from_pretrained(\"google-bert/bert-base-cased\", num_labels=5)"
   ]
  },
  {
   "cell_type": "code",
   "execution_count": 2,
   "id": "7d1db869-fff6-48c7-b265-973b0b912922",
   "metadata": {},
   "outputs": [
    {
     "ename": "ImportError",
     "evalue": "Using the `Trainer` with `PyTorch` requires `accelerate>=0.21.0`: Please run `pip install transformers[torch]` or `pip install accelerate -U`",
     "output_type": "error",
     "traceback": [
      "\u001b[1;31m---------------------------------------------------------------------------\u001b[0m",
      "\u001b[1;31mImportError\u001b[0m                               Traceback (most recent call last)",
      "Cell \u001b[1;32mIn[2], line 10\u001b[0m\n\u001b[0;32m      7\u001b[0m \u001b[38;5;28;01mfrom\u001b[39;00m \u001b[38;5;21;01mtransformers\u001b[39;00m \u001b[38;5;28;01mimport\u001b[39;00m TrainingArguments\n\u001b[0;32m      9\u001b[0m \u001b[38;5;66;03m# 如果想在微调期间监控评估指标，在训练参数中指定 evaluation_strategy 参数，以在每个周期结束时报告评估指标\u001b[39;00m\n\u001b[1;32m---> 10\u001b[0m training_args \u001b[38;5;241m=\u001b[39m TrainingArguments(output_dir\u001b[38;5;241m=\u001b[39m\u001b[38;5;124m\"\u001b[39m\u001b[38;5;124mtest_trainer\u001b[39m\u001b[38;5;124m\"\u001b[39m, \n\u001b[0;32m     11\u001b[0m                                   evaluation_strategy\u001b[38;5;241m=\u001b[39m\u001b[38;5;124m\"\u001b[39m\u001b[38;5;124mepoch\u001b[39m\u001b[38;5;124m\"\u001b[39m,\n\u001b[0;32m     12\u001b[0m                                   num_train_epochs\u001b[38;5;241m=\u001b[39m\u001b[38;5;241m2\u001b[39m,\n\u001b[0;32m     13\u001b[0m                                   per_device_train_batch_size\u001b[38;5;241m=\u001b[39m\u001b[38;5;241m8\u001b[39m,\n\u001b[0;32m     14\u001b[0m                                   per_device_eval_batch_size\u001b[38;5;241m=\u001b[39m\u001b[38;5;241m8\u001b[39m)\n",
      "File \u001b[1;32m<string>:124\u001b[0m, in \u001b[0;36m__init__\u001b[1;34m(self, output_dir, overwrite_output_dir, do_train, do_eval, do_predict, evaluation_strategy, prediction_loss_only, per_device_train_batch_size, per_device_eval_batch_size, per_gpu_train_batch_size, per_gpu_eval_batch_size, gradient_accumulation_steps, eval_accumulation_steps, eval_delay, learning_rate, weight_decay, adam_beta1, adam_beta2, adam_epsilon, max_grad_norm, num_train_epochs, max_steps, lr_scheduler_type, lr_scheduler_kwargs, warmup_ratio, warmup_steps, log_level, log_level_replica, log_on_each_node, logging_dir, logging_strategy, logging_first_step, logging_steps, logging_nan_inf_filter, save_strategy, save_steps, save_total_limit, save_safetensors, save_on_each_node, save_only_model, no_cuda, use_cpu, use_mps_device, seed, data_seed, jit_mode_eval, use_ipex, bf16, fp16, fp16_opt_level, half_precision_backend, bf16_full_eval, fp16_full_eval, tf32, local_rank, ddp_backend, tpu_num_cores, tpu_metrics_debug, debug, dataloader_drop_last, eval_steps, dataloader_num_workers, dataloader_prefetch_factor, past_index, run_name, disable_tqdm, remove_unused_columns, label_names, load_best_model_at_end, metric_for_best_model, greater_is_better, ignore_data_skip, fsdp, fsdp_min_num_params, fsdp_config, fsdp_transformer_layer_cls_to_wrap, accelerator_config, deepspeed, label_smoothing_factor, optim, optim_args, adafactor, group_by_length, length_column_name, report_to, ddp_find_unused_parameters, ddp_bucket_cap_mb, ddp_broadcast_buffers, dataloader_pin_memory, dataloader_persistent_workers, skip_memory_metrics, use_legacy_prediction_loop, push_to_hub, resume_from_checkpoint, hub_model_id, hub_strategy, hub_token, hub_private_repo, hub_always_push, gradient_checkpointing, gradient_checkpointing_kwargs, include_inputs_for_metrics, fp16_backend, push_to_hub_model_id, push_to_hub_organization, push_to_hub_token, mp_parameters, auto_find_batch_size, full_determinism, torchdynamo, ray_scope, ddp_timeout, torch_compile, torch_compile_backend, torch_compile_mode, dispatch_batches, split_batches, include_tokens_per_second, include_num_input_tokens_seen, neftune_noise_alpha, optim_target_modules)\u001b[0m\n",
      "File \u001b[1;32mE:\\Anaconda\\Lib\\site-packages\\transformers\\training_args.py:1551\u001b[0m, in \u001b[0;36mTrainingArguments.__post_init__\u001b[1;34m(self)\u001b[0m\n\u001b[0;32m   1545\u001b[0m     \u001b[38;5;28;01mif\u001b[39;00m version\u001b[38;5;241m.\u001b[39mparse(version\u001b[38;5;241m.\u001b[39mparse(torch\u001b[38;5;241m.\u001b[39m__version__)\u001b[38;5;241m.\u001b[39mbase_version) \u001b[38;5;241m==\u001b[39m version\u001b[38;5;241m.\u001b[39mparse(\u001b[38;5;124m\"\u001b[39m\u001b[38;5;124m2.0.0\u001b[39m\u001b[38;5;124m\"\u001b[39m) \u001b[38;5;129;01mand\u001b[39;00m \u001b[38;5;28mself\u001b[39m\u001b[38;5;241m.\u001b[39mfp16:\n\u001b[0;32m   1546\u001b[0m         \u001b[38;5;28;01mraise\u001b[39;00m \u001b[38;5;167;01mValueError\u001b[39;00m(\u001b[38;5;124m\"\u001b[39m\u001b[38;5;124m--optim adamw_torch_fused with --fp16 requires PyTorch>2.0\u001b[39m\u001b[38;5;124m\"\u001b[39m)\n\u001b[0;32m   1548\u001b[0m \u001b[38;5;28;01mif\u001b[39;00m (\n\u001b[0;32m   1549\u001b[0m     \u001b[38;5;28mself\u001b[39m\u001b[38;5;241m.\u001b[39mframework \u001b[38;5;241m==\u001b[39m \u001b[38;5;124m\"\u001b[39m\u001b[38;5;124mpt\u001b[39m\u001b[38;5;124m\"\u001b[39m\n\u001b[0;32m   1550\u001b[0m     \u001b[38;5;129;01mand\u001b[39;00m is_torch_available()\n\u001b[1;32m-> 1551\u001b[0m     \u001b[38;5;129;01mand\u001b[39;00m (\u001b[38;5;28mself\u001b[39m\u001b[38;5;241m.\u001b[39mdevice\u001b[38;5;241m.\u001b[39mtype \u001b[38;5;241m!=\u001b[39m \u001b[38;5;124m\"\u001b[39m\u001b[38;5;124mcuda\u001b[39m\u001b[38;5;124m\"\u001b[39m)\n\u001b[0;32m   1552\u001b[0m     \u001b[38;5;129;01mand\u001b[39;00m (\u001b[38;5;28mself\u001b[39m\u001b[38;5;241m.\u001b[39mdevice\u001b[38;5;241m.\u001b[39mtype \u001b[38;5;241m!=\u001b[39m \u001b[38;5;124m\"\u001b[39m\u001b[38;5;124mnpu\u001b[39m\u001b[38;5;124m\"\u001b[39m)\n\u001b[0;32m   1553\u001b[0m     \u001b[38;5;129;01mand\u001b[39;00m (\u001b[38;5;28mself\u001b[39m\u001b[38;5;241m.\u001b[39mdevice\u001b[38;5;241m.\u001b[39mtype \u001b[38;5;241m!=\u001b[39m \u001b[38;5;124m\"\u001b[39m\u001b[38;5;124mxpu\u001b[39m\u001b[38;5;124m\"\u001b[39m)\n\u001b[0;32m   1554\u001b[0m     \u001b[38;5;129;01mand\u001b[39;00m (get_xla_device_type(\u001b[38;5;28mself\u001b[39m\u001b[38;5;241m.\u001b[39mdevice) \u001b[38;5;129;01mnot\u001b[39;00m \u001b[38;5;129;01min\u001b[39;00m [\u001b[38;5;124m\"\u001b[39m\u001b[38;5;124mGPU\u001b[39m\u001b[38;5;124m\"\u001b[39m, \u001b[38;5;124m\"\u001b[39m\u001b[38;5;124mCUDA\u001b[39m\u001b[38;5;124m\"\u001b[39m])\n\u001b[0;32m   1555\u001b[0m     \u001b[38;5;129;01mand\u001b[39;00m (\u001b[38;5;28mself\u001b[39m\u001b[38;5;241m.\u001b[39mfp16 \u001b[38;5;129;01mor\u001b[39;00m \u001b[38;5;28mself\u001b[39m\u001b[38;5;241m.\u001b[39mfp16_full_eval)\n\u001b[0;32m   1556\u001b[0m ):\n\u001b[0;32m   1557\u001b[0m     \u001b[38;5;28;01mraise\u001b[39;00m \u001b[38;5;167;01mValueError\u001b[39;00m(\n\u001b[0;32m   1558\u001b[0m         \u001b[38;5;124m\"\u001b[39m\u001b[38;5;124mFP16 Mixed precision training with AMP or APEX (`--fp16`) and FP16 half precision evaluation\u001b[39m\u001b[38;5;124m\"\u001b[39m\n\u001b[0;32m   1559\u001b[0m         \u001b[38;5;124m\"\u001b[39m\u001b[38;5;124m (`--fp16_full_eval`) can only be used on CUDA or NPU devices or certain XPU devices (with IPEX).\u001b[39m\u001b[38;5;124m\"\u001b[39m\n\u001b[0;32m   1560\u001b[0m     )\n\u001b[0;32m   1562\u001b[0m \u001b[38;5;28;01mif\u001b[39;00m (\n\u001b[0;32m   1563\u001b[0m     \u001b[38;5;28mself\u001b[39m\u001b[38;5;241m.\u001b[39mframework \u001b[38;5;241m==\u001b[39m \u001b[38;5;124m\"\u001b[39m\u001b[38;5;124mpt\u001b[39m\u001b[38;5;124m\"\u001b[39m\n\u001b[0;32m   1564\u001b[0m     \u001b[38;5;129;01mand\u001b[39;00m is_torch_available()\n\u001b[1;32m   (...)\u001b[0m\n\u001b[0;32m   1571\u001b[0m     \u001b[38;5;129;01mand\u001b[39;00m (\u001b[38;5;28mself\u001b[39m\u001b[38;5;241m.\u001b[39mbf16 \u001b[38;5;129;01mor\u001b[39;00m \u001b[38;5;28mself\u001b[39m\u001b[38;5;241m.\u001b[39mbf16_full_eval)\n\u001b[0;32m   1572\u001b[0m ):\n",
      "File \u001b[1;32mE:\\Anaconda\\Lib\\site-packages\\transformers\\training_args.py:2027\u001b[0m, in \u001b[0;36mTrainingArguments.device\u001b[1;34m(self)\u001b[0m\n\u001b[0;32m   2023\u001b[0m \u001b[38;5;250m\u001b[39m\u001b[38;5;124;03m\"\"\"\u001b[39;00m\n\u001b[0;32m   2024\u001b[0m \u001b[38;5;124;03mThe device used by this process.\u001b[39;00m\n\u001b[0;32m   2025\u001b[0m \u001b[38;5;124;03m\"\"\"\u001b[39;00m\n\u001b[0;32m   2026\u001b[0m requires_backends(\u001b[38;5;28mself\u001b[39m, [\u001b[38;5;124m\"\u001b[39m\u001b[38;5;124mtorch\u001b[39m\u001b[38;5;124m\"\u001b[39m])\n\u001b[1;32m-> 2027\u001b[0m \u001b[38;5;28;01mreturn\u001b[39;00m \u001b[38;5;28mself\u001b[39m\u001b[38;5;241m.\u001b[39m_setup_devices\n",
      "File \u001b[1;32mE:\\Anaconda\\Lib\\site-packages\\transformers\\utils\\generic.py:63\u001b[0m, in \u001b[0;36mcached_property.__get__\u001b[1;34m(self, obj, objtype)\u001b[0m\n\u001b[0;32m     61\u001b[0m cached \u001b[38;5;241m=\u001b[39m \u001b[38;5;28mgetattr\u001b[39m(obj, attr, \u001b[38;5;28;01mNone\u001b[39;00m)\n\u001b[0;32m     62\u001b[0m \u001b[38;5;28;01mif\u001b[39;00m cached \u001b[38;5;129;01mis\u001b[39;00m \u001b[38;5;28;01mNone\u001b[39;00m:\n\u001b[1;32m---> 63\u001b[0m     cached \u001b[38;5;241m=\u001b[39m \u001b[38;5;28mself\u001b[39m\u001b[38;5;241m.\u001b[39mfget(obj)\n\u001b[0;32m     64\u001b[0m     \u001b[38;5;28msetattr\u001b[39m(obj, attr, cached)\n\u001b[0;32m     65\u001b[0m \u001b[38;5;28;01mreturn\u001b[39;00m cached\n",
      "File \u001b[1;32mE:\\Anaconda\\Lib\\site-packages\\transformers\\training_args.py:1937\u001b[0m, in \u001b[0;36mTrainingArguments._setup_devices\u001b[1;34m(self)\u001b[0m\n\u001b[0;32m   1935\u001b[0m \u001b[38;5;28;01mif\u001b[39;00m \u001b[38;5;129;01mnot\u001b[39;00m is_sagemaker_mp_enabled():\n\u001b[0;32m   1936\u001b[0m     \u001b[38;5;28;01mif\u001b[39;00m \u001b[38;5;129;01mnot\u001b[39;00m is_accelerate_available():\n\u001b[1;32m-> 1937\u001b[0m         \u001b[38;5;28;01mraise\u001b[39;00m \u001b[38;5;167;01mImportError\u001b[39;00m(\n\u001b[0;32m   1938\u001b[0m             \u001b[38;5;124mf\u001b[39m\u001b[38;5;124m\"\u001b[39m\u001b[38;5;124mUsing the `Trainer` with `PyTorch` requires `accelerate>=\u001b[39m\u001b[38;5;132;01m{\u001b[39;00mACCELERATE_MIN_VERSION\u001b[38;5;132;01m}\u001b[39;00m\u001b[38;5;124m`: \u001b[39m\u001b[38;5;124m\"\u001b[39m\n\u001b[0;32m   1939\u001b[0m             \u001b[38;5;124m\"\u001b[39m\u001b[38;5;124mPlease run `pip install transformers[torch]` or `pip install accelerate -U`\u001b[39m\u001b[38;5;124m\"\u001b[39m\n\u001b[0;32m   1940\u001b[0m         )\n\u001b[0;32m   1941\u001b[0m     AcceleratorState\u001b[38;5;241m.\u001b[39m_reset_state(reset_partial_state\u001b[38;5;241m=\u001b[39m\u001b[38;5;28;01mTrue\u001b[39;00m)\n\u001b[0;32m   1942\u001b[0m \u001b[38;5;28mself\u001b[39m\u001b[38;5;241m.\u001b[39mdistributed_state \u001b[38;5;241m=\u001b[39m \u001b[38;5;28;01mNone\u001b[39;00m\n",
      "\u001b[1;31mImportError\u001b[0m: Using the `Trainer` with `PyTorch` requires `accelerate>=0.21.0`: Please run `pip install transformers[torch]` or `pip install accelerate -U`"
     ]
    }
   ],
   "source": [
    "# 4、指定训练超参数，创建TrainingArguments 类\n",
    "\"\"\"\n",
    "output_dir ( str ) — 将写入模型预测和检查点的输出目录。\n",
    "overwrite_output_dir ( bool ，可选，默认为 False ) — 如果是 True ，则覆盖输出目录output_dir的内容。如果 output_dir 指向检查点目录，则使用它继续训练。\n",
    "evaluation_strategy ( str 或 IntervalStrategy，可选，默认为 \"no\" ) — 训练期间采用的评估策略。可能的值为：\n",
    "        \"no\" ：训练期间不进行评估。\n",
    "        \"steps\" ：每隔 eval_steps 进行一次评估（并记录）。\n",
    "        \"epoch\" ：评估在每个时期结束时进行。\n",
    "Prediction_loss_only ( bool ，可选，默认为 False ) — 执行评估和生成预测时，仅返回损失。\n",
    "per_device_train_batch_size ( int ，可选，默认为 8) — 用于训练的每个 GPU/XPU/TPU/MPS/NPU 核心/CPU 的批量大小。\n",
    "per_device_eval_batch_size ( int ，可选，默认为 8) — 用于评估的每个 GPU/XPU/TPU/MPS/NPU 核心/CPU 的批量大小。\n",
    "gradient_accumulation_steps ( int ，可选，默认为 1) — 在执行向后/更新传递之前累积梯度的更新步骤数。\n",
    "    使用梯度累加时，一步算作向后传递的一步。因此，每个 gradient_accumulation_steps * xxx_step 个训练样例都会进行记录、评估、保存。\n",
    "eval_accumulation_steps ( int ，可选) — 在将结果移至 CPU 之前累积输出张量的预测步骤数。如果未设置，整个预测将在转移到 CPU 之前累积在 GPU/NPU/TPU 上（速度更快，但需要更多内存）。\n",
    "eval_delay ( float ，可选) — 在执行第一次评估之前要等待的epoch数或步骤数，具体取决于评估策略。\n",
    "Learning_rate ( float ，可选，默认为 5e-5) — AdamW 优化器的初始学习率。\n",
    "weight_decay ( float ，可选，默认为 0) — 应用于除 AdamW 优化器中的所有偏差和 LayerNorm 权重之外的所有层的权重衰减（如果不为零）。\n",
    "adam_beta1 ( float ，可选，默认为 0.9) — AdamW 优化器的 beta1 超参数。\n",
    "adam_beta2 ( float ，可选，默认为 0.999) — AdamW 优化器的 beta2 超参数。\n",
    "adam_epsilon ( float ，可选，默认为 1e-8) — AdamW 优化器的 epsilon 超参数。\n",
    "num_train_epochs( float ，可选，默认为 3.0) — 要执行的训练时期总数（如果不是整数，将执行停止训练之前最后一个时期的小数部分百分比）。\n",
    "max_steps ( int ，可选，默认为 -1) — 如果设置为正数，则表示要执行的训练步骤总数。覆盖 num_train_epochs 。对于有限数据集，通过数据集重复训练（如果所有数据都已耗尽），直到达到 max_steps 。\n",
    "lr_scheduler_type ( str 或 SchedulerType，可选，默认为 \"linear\" ) — 要使用的调度程序类型。有关所有可能的值，请参阅 SchedulerType 的文档。\n",
    "lr_scheduler_kwargs (‘dict’，可选，默认为 {}) — lr_scheduler 的额外参数。有关可能的值，请参阅每个调度程序的文档。\n",
    "Warmup_ratio ( float ，可选，默认为 0.0) — 用于从 0 到 learning_rate 的线性预热的总训练步骤的比率。\n",
    "Warmup_steps ( int ，可选，默认为 0) — 用于从 0 到 learning_rate 的线性预热的步数。覆盖 warmup_ratio 的任何效果。\n",
    "save_strategy ( str 或 IntervalStrategy，可选，默认为 \"steps\" ) — 训练期间采用的检查点保存策略。可能的值为：\n",
    "        \"no\" ：训练期间不进行保存。\n",
    "        \"epoch\" ：保存在每个纪元结束时完成。\n",
    "        \"steps\" ：每隔 save_steps 进行一次保存。\n",
    "save_steps（ int 或 float ，可选，默认为 500） - 如果 save_strategy=\"steps\" ，则两个检查点保存之前的更新步骤数。应该是 [0,1) 范围内的整数或浮点数。如果小于 1，将被解释为总训练步数的比率。\n",
    "save_total_limit ( int , 可选) — 如果传递一个值，将限制检查点的总数。删除 output_dir 中较旧的检查点。启用 load_best_model_at_end 后，除了最近的检查点之外，将始终保留根据 metric_for_best_model 的“最佳”检查点。例如，对于 save_total_limit=5 和 load_best_model_at_end ，最后四个检查点将始终与最佳模型一起保留。当 save_total_limit=1 和 load_best_model_at_end 时，可能会保存两个检查点：最后一个和最好的一个（如果它们不同）。\n",
    "\"\"\"\n",
    "from transformers import TrainingArguments\n",
    "\n",
    "# 如果想在微调期间监控评估指标，在训练参数中指定 evaluation_strategy 参数，以在每个周期结束时报告评估指标\n",
    "training_args = TrainingArguments(output_dir=\"test_trainer\", \n",
    "                                  evaluation_strategy=\"epoch\",\n",
    "                                  num_train_epochs=2,\n",
    "                                  per_device_train_batch_size=8,\n",
    "                                  per_device_eval_batch_size=8)"
   ]
  },
  {
   "cell_type": "code",
   "execution_count": null,
   "id": "925c392d-8e73-406c-9dec-04bfa76b0c34",
   "metadata": {},
   "outputs": [],
   "source": [
    "# 5、加载 Evaluate 评价指标\n",
    "\"\"\"\n",
    "Trainer 在训练期间不会自动评估模型性能。需要向 Trainer 传递一个函数来计算和报告指标。\n",
    "Evaluate 库提供了一个简单的 accuracy 函数，使用 evaluate.load 函数加载\n",
    "\"\"\"\n",
    "import numpy as np\n",
    "import evaluate\n",
    "\n",
    "metric = evaluate.load(\"accuracy\")\n",
    "\n",
    "# metric 调用 compute 以计算预测的准确性\n",
    "def compute_metrics(eval_pred):\n",
    "    logits, labels = eval_pred\n",
    "    # 递给 compute 之前，将logits值转换为预测\n",
    "    predictions = np.argmax(logits, axis=-1)\n",
    "    return metric.compute(predictions=predictions, references=labels)"
   ]
  },
  {
   "cell_type": "code",
   "execution_count": null,
   "id": "8ae2a461-a11f-4763-9546-85f503d93f77",
   "metadata": {},
   "outputs": [],
   "source": [
    "# 6、使用模型、训练参数、训练和测试数据集以及评估函数创建一个 Trainer 对象：\n",
    "\"\"\"\n",
    "model：这是你要训练、评估或预测的模型。\n",
    "可以是Hugging Face库中提供的预训练模型（PreTrainedModel），也可以是你自己定义的PyTorch模型（torch.nn.Module）。\n",
    "如果你使用自定义的PyTorch模型，确保它们与Hugging Face库中的模型以相同的方式工作，以便与Trainer类兼容。\n",
    "\n",
    "args：这是用于调整训练的参数。\n",
    "如果不提供，将使用默认的一组参数。\n",
    "你可以通过创建TrainingArguments的实例来调整训练参数，如设置训练的最大步数、学习率等。\n",
    "\n",
    "data_collator：这是用于形成批次数据的函数。\n",
    "如果不提供，Trainer将根据是否提供了分词器（tokenizer）来选择默认的数据整合器。\n",
    "数据整合器的作用是将训练或评估数据集的元素整合成批次。\n",
    "\n",
    "train_dataset：这是用于训练的数据集。\n",
    "可以是PyTorch的Dataset对象或IterableDataset对象。\n",
    "\n",
    "eval_dataset：这是用于评估的数据集。\n",
    "可以是PyTorch的Dataset对象或字典，其中键是用于标识数据集的名称。\n",
    "\n",
    "tokenizer：这是用于数据预处理的分词器。\n",
    "如果提供，将用于自动对输入进行填充，并在模型中保存，以便重新运行中断的训练或重用微调后的模型。\n",
    "\n",
    "model_init：这是用于实例化模型的函数。\n",
    "如果提供了这个函数，每次调用train()方法时都会从此函数返回的模型实例开始训练。\n",
    "这个函数可以没有参数，也可以接受一个参数，例如用于超参数优化的trial对象。\n",
    "\n",
    "compute_metrics：这是用于评估时计算指标的函数。\n",
    "它接收一个EvalPrediction对象作为参数，并返回一个包含指标名称和值的字典。\n",
    "\n",
    "callbacks：这是用于自定义训练循环的回调函数列表。\n",
    "可以通过添加回调函数来扩展或修改Trainer的默认行为。\n",
    "\n",
    "optimizers：这是优化器和学习率调度器的元组。\n",
    "默认情况下，Trainer将使用AdamW优化器和一个由参数args控制的学习率调度器。\n",
    "\n",
    "preprocess_logits_for_metrics：这是用于在缓存每个评估步骤时预处理对数的函数。\n",
    "它接收模型的输出对数和标签作为输入，并返回预处理后的对数。\n",
    "这个函数可以用来在计算指标之前对模型输出进行后处理。\n",
    "\"\"\"\n",
    "from transformers import Trainer\n",
    "\n",
    "trainer = Trainer(\n",
    "    model=model,\n",
    "    args=training_args,\n",
    "    train_dataset=small_train_dataset,\n",
    "    eval_dataset=small_eval_dataset,\n",
    "    compute_metrics=compute_metrics,\n",
    ")"
   ]
  },
  {
   "cell_type": "code",
   "execution_count": null,
   "id": "917e0a53-8c90-4e42-87b3-417247b53efa",
   "metadata": {},
   "outputs": [],
   "source": [
    "# 7、然后通过调用 train() 微调模型：\n",
    "trainer.train()"
   ]
  }
 ],
 "metadata": {
  "kernelspec": {
   "display_name": "Python 3 (ipykernel)",
   "language": "python",
   "name": "python3"
  },
  "language_info": {
   "codemirror_mode": {
    "name": "ipython",
    "version": 3
   },
   "file_extension": ".py",
   "mimetype": "text/x-python",
   "name": "python",
   "nbconvert_exporter": "python",
   "pygments_lexer": "ipython3",
   "version": "3.11.7"
  }
 },
 "nbformat": 4,
 "nbformat_minor": 5
}
