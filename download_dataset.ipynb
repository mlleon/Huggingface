{
 "cells": [
  {
   "cell_type": "code",
   "execution_count": null,
   "id": "486729b9-18e4-422b-a504-c07ee4741bf5",
   "metadata": {},
   "outputs": [],
   "source": [
    "import subprocess\n",
    "import os\n",
    "from datasets import load_dataset\n",
    "\n",
    "# 1、使用AutoDL学术加速\n",
    "result = subprocess.run('bash -c \"source /etc/network_turbo && env | grep proxy\"', shell=True, capture_output=True,\n",
    "                        text=True)\n",
    "output = result.stdout\n",
    "for line in output.splitlines():\n",
    "    if '=' in line:\n",
    "        var, value = line.split('=', 1)\n",
    "        os.environ[var] = value\n",
    "\n",
    "dataset_name = \"wikipedia\"  # Change this to the desired dataset name if needed\n",
    "subset_name = \"20220301.simple\"  # Change this to the desired subset name if needed\n",
    "\n",
    "# 2、使用 load_dataset 函数加载感兴趣的数据集\n",
    "dataset = load_dataset(dataset_name, subset_name)\n",
    "\n",
    "\n",
    "# 3、创建一个用于保存数据集的本地目录\n",
    "def create_directory(directory):\n",
    "    if not os.path.exists(directory):\n",
    "        os.makedirs(directory)\n",
    "\n",
    "\n",
    "datasets_directory = \"/root/autodl-tmp/datasets\"\n",
    "create_directory(datasets_directory)\n",
    "subset_path = os.path.join(datasets_directory, dataset_name, subset_name) if subset_name else os.path.join(\n",
    "    datasets_directory, dataset_name)\n",
    "create_directory(subset_path)\n",
    "\n",
    "# 4、将数据集文件保存到本地目录\n",
    "dataset.save_to_disk(os.path.abspath(subset_path)) if not os.listdir(subset_path) else None"
   ]
  }
 ],
 "metadata": {
  "kernelspec": {
   "display_name": "Python 3 (ipykernel)",
   "language": "python",
   "name": "python3"
  },
  "language_info": {
   "codemirror_mode": {
    "name": "ipython",
    "version": 3
   },
   "file_extension": ".py",
   "mimetype": "text/x-python",
   "name": "python",
   "nbconvert_exporter": "python",
   "pygments_lexer": "ipython3",
   "version": "3.11.7"
  }
 },
 "nbformat": 4,
 "nbformat_minor": 5
}
